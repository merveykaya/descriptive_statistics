{
 "cells": [
  {
   "cell_type": "code",
   "execution_count": 2,
   "id": "a0940dd1",
   "metadata": {},
   "outputs": [],
   "source": [
    "import numpy as np"
   ]
  },
  {
   "cell_type": "code",
   "execution_count": 3,
   "id": "7bd2f1d9",
   "metadata": {},
   "outputs": [
    {
     "data": {
      "text/plain": [
       "4"
      ]
     },
     "execution_count": 3,
     "metadata": {},
     "output_type": "execute_result"
    }
   ],
   "source": [
    "# number of heads from 10 fair coin flips\n",
    "np.random.binomial(10, 0.5)"
   ]
  },
  {
   "cell_type": "code",
   "execution_count": 4,
   "id": "5bc4530e",
   "metadata": {},
   "outputs": [
    {
     "data": {
      "text/plain": [
       "array([5, 5, 0, 4, 7, 5, 8, 4, 3, 6, 5, 4, 3, 7, 5, 6, 5, 6, 6, 7])"
      ]
     },
     "execution_count": 4,
     "metadata": {},
     "output_type": "execute_result"
    }
   ],
   "source": [
    "# result from 20 tests with 10 coin flips\n",
    "np.random.binomial(10, 0.5, 20)"
   ]
  },
  {
   "cell_type": "code",
   "execution_count": 5,
   "id": "141d5226",
   "metadata": {},
   "outputs": [
    {
     "data": {
      "text/plain": [
       "5.05"
      ]
     },
     "execution_count": 5,
     "metadata": {},
     "output_type": "execute_result"
    }
   ],
   "source": [
    "# mean number of heads from the 20 tests\n",
    "np.random.binomial(10, 0.5, 20).mean()"
   ]
  },
  {
   "cell_type": "code",
   "execution_count": 6,
   "id": "b6878657",
   "metadata": {},
   "outputs": [
    {
     "data": {
      "text/plain": [
       "4.999329"
      ]
     },
     "execution_count": 6,
     "metadata": {},
     "output_type": "execute_result"
    }
   ],
   "source": [
    "# reflects the fairness of the coin more closely as \n",
    "# tests increases\n",
    "np.random.binomial(10, 0.5, 1000000).mean()"
   ]
  },
  {
   "cell_type": "code",
   "execution_count": 7,
   "id": "a3f14146",
   "metadata": {},
   "outputs": [],
   "source": [
    "import matplotlib.pyplot as plt\n",
    "%matplotlib inline"
   ]
  },
  {
   "cell_type": "code",
   "execution_count": 8,
   "id": "103df46e",
   "metadata": {},
   "outputs": [
    {
     "data": {
      "image/png": "[encoded data removed]",
      "text/plain": [
       "<Figure size 432x288 with 1 Axes>"
      ]
     },
     "metadata": {
      "needs_background": "light"
     },
     "output_type": "display_data"
    }
   ],
   "source": [
    "plt.hist(np.random.binomial(10, 0.5, 1000000));"
   ]
  },
  {
   "cell_type": "code",
   "execution_count": 9,
   "id": "0f35f9f9",
   "metadata": {
    "scrolled": true
   },
   "outputs": [
    {
     "data": {
      "text/plain": [
       "(array([3.80000e+01, 1.75600e+03, 2.66210e+04, 1.55559e+05, 2.76584e+05,\n",
       "        3.55260e+05, 1.55706e+05, 2.68190e+04, 1.61300e+03, 4.40000e+01]),\n",
       " array([26. , 30.8, 35.6, 40.4, 45.2, 50. , 54.8, 59.6, 64.4, 69.2, 74. ]),\n",
       " <BarContainer object of 10 artists>)"
      ]
     },
     "execution_count": 9,
     "metadata": {},
     "output_type": "execute_result"
    },
    {
     "data": {
      "image/png": "[encoded data removed]",
      "text/plain": [
       "<Figure size 432x288 with 1 Axes>"
      ]
     },
     "metadata": {
      "needs_background": "light"
     },
     "output_type": "display_data"
    }
   ],
   "source": [
    "# gets more narrow as number of flips increase per test\n",
    "plt.hist(np.random.binomial(100, 0.5, 1000000))"
   ]
  },
  {
   "cell_type": "code",
   "execution_count": 38,
   "id": "e334e839",
   "metadata": {},
   "outputs": [
    {
     "data": {
      "text/plain": [
       "0.205032"
      ]
     },
     "execution_count": 38,
     "metadata": {},
     "output_type": "execute_result"
    }
   ],
   "source": [
    "# simulate 1 million tests of five fair coin flips\n",
    "test2 = np.random.binomial(10, 0.5, int(1e6))\n",
    "\n",
    "# proportion of tests that produced 4 head\n",
    "(test2 == 4).mean()"
   ]
  },
  {
   "cell_type": "code",
   "execution_count": 39,
   "id": "9858a84f",
   "metadata": {},
   "outputs": [
    {
     "data": {
      "text/plain": [
       "0.327907"
      ]
     },
     "execution_count": 39,
     "metadata": {},
     "output_type": "execute_result"
    }
   ],
   "source": [
    "# simulate 1 million tests of five bias coin flips\n",
    "\n",
    "test3 = np.random.binomial(5, 0.8, int(1e6))\n",
    "\n",
    "# proportion of tests that produced 5 head\n",
    "(test3 == 5).mean()"
   ]
  },
  {
   "cell_type": "code",
   "execution_count": 40,
   "id": "f4f84f13",
   "metadata": {},
   "outputs": [
    {
     "data": {
      "text/plain": [
       "0.180282"
      ]
     },
     "execution_count": 40,
     "metadata": {},
     "output_type": "execute_result"
    }
   ],
   "source": [
    "# simulate 1 million tests of ten bias coin flips\n",
    "\n",
    "test4 = np.random.binomial(10, 0.15, int(1e6))\n",
    "\n",
    "# proportion of tests that produced at least 3 heads\n",
    "(test4 >= 3).mean()"
   ]
  },
  {
   "cell_type": "code",
   "execution_count": 10,
   "id": "459f66f0",
   "metadata": {},
   "outputs": [
    {
     "data": {
      "text/plain": [
       "0.179485"
      ]
     },
     "execution_count": 10,
     "metadata": {},
     "output_type": "execute_result"
    }
   ],
   "source": [
    "# simulate 1 million tests of five fair coin flips\n",
    "test2 = np.random.binomial(10, 0.5, int(1e6))\n",
    "\n",
    "# proportion of tests that produced 4 head\n",
    "(test2 == 4).mean()\n",
    "\n",
    "## Five bias coin flips with P(H) = 0.8 produce exactly five heads\n",
    "\n",
    "# simulate 1 million tests of five bias coin flips\n",
    "\n",
    "test3 = np.random.binomial(5, 0.8, int(1e6))\n",
    "\n",
    "# proportion of tests that produced 5 head\n",
    "(test3 == 5).mean()\n",
    "\n",
    "## Ten bias coin flips with P(H) = 0.15 produce at least 3 heads\n",
    "\n",
    "# simulate 1 million tests of ten bias coin flips\n",
    "\n",
    "test4 = np.random.binomial(10, 0.15, int(1e6))\n",
    "\n",
    "# proportion of tests that produced at least 3 heads\n",
    "(test4 >= 3).mean()"
   ]
  }
 ],
 "metadata": {
  "kernelspec": {
   "display_name": "Python 3 (ipykernel)",
   "language": "python",
   "name": "python3"
  },
  "language_info": {
   "codemirror_mode": {
    "name": "ipython",
    "version": 3
   },
   "file_extension": ".py",
   "mimetype": "text/x-python",
   "name": "python",
   "nbconvert_exporter": "python",
   "pygments_lexer": "ipython3",
   "version": "3.9.7"
  },
  "toc": {
   "base_numbering": 1,
   "nav_menu": {},
   "number_sections": true,
   "sideBar": true,
   "skip_h1_title": false,
   "title_cell": "Table of Contents",
   "title_sidebar": "Contents",
   "toc_cell": false,
   "toc_position": {},
   "toc_section_display": true,
   "toc_window_display": false
  }
 },
 "nbformat": 4,
 "nbformat_minor": 5
}
