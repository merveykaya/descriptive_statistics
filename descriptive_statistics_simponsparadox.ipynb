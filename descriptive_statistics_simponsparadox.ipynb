{
 "cells": [
  {
   "cell_type": "markdown",
   "id": "299f54f7",
   "metadata": {},
   "source": [
    "# Load and view first few lines of dataset\n",
    "import pandas as pd\n",
    "admits = pd.read_csv('admission_data.csv')\n",
    "admits.head()"
   ]
  },
  {
   "cell_type": "markdown",
   "id": "dec74fe6",
   "metadata": {},
   "source": [
    "# Proportion and admission rate for each gender\n",
    "print (len(admits[admits['gender']=='female']))\n",
    "print (admits.shape[0])\n"
   ]
  },
  {
   "cell_type": "markdown",
   "id": "0e4a4e4d",
   "metadata": {},
   "source": [
    "## Proportion of students that are female\n",
    "(len(admits[admits['gender']=='female']))/admits.shape[0]"
   ]
  },
  {
   "cell_type": "markdown",
   "id": "67638024",
   "metadata": {},
   "source": [
    "## Proportion of students that are male\n",
    "(len(admits[admits['gender']=='male']))/admits.shape[0]"
   ]
  },
  {
   "cell_type": "markdown",
   "id": "34119c86",
   "metadata": {},
   "source": [
    "## Admission rate for females\n",
    "len(admits[(admits['gender']=='female') & (admits['admitted'])])/(len(admits[admits['gender']=='female']))"
   ]
  },
  {
   "cell_type": "markdown",
   "id": "09f25a70",
   "metadata": {},
   "source": [
    "## Admission rate for males\n",
    "len(admits[(admits['gender']=='male') & (admits['admitted'])])/(len(admits[admits['gender']=='male']))"
   ]
  },
  {
   "cell_type": "markdown",
   "id": "92fd2eef",
   "metadata": {},
   "source": [
    "# Proportion and admission rate for physics majors of each gender\n",
    "\n"
   ]
  },
  {
   "cell_type": "markdown",
   "id": "33fe6697",
   "metadata": {},
   "source": [
    "## What proportion of female students are majoring in physics?\n",
    "fem_phys_rate = admits.query(\"gender == 'female' & major == 'Physics'\").count()/ \\\n",
    "    (admits.query(\"gender == 'female'\").count())\n",
    "print (fem_phys_rate)"
   ]
  },
  {
   "cell_type": "markdown",
   "id": "e0571401",
   "metadata": {},
   "source": [
    "## What proportion of male students are majoring in physics?\n",
    "fem_phys_rate = admits.query(\"gender == 'male' & major == 'Physics'\").count()/ \\\n",
    "    (admits.query(\"gender == 'male'\").count())\n",
    "print (fem_phys_rate)"
   ]
  },
  {
   "cell_type": "markdown",
   "id": "a7e88927",
   "metadata": {},
   "source": [
    "## Admission rate for female physics majors\n",
    "len(admits[(admits[\"gender\"]=='female') & (admits[\"major\"] == 'Physics') & admits[\"admitted\"]]) / len(admits[(admits[\"gender\"]=='female') & (admits[\"major\"] == 'Physics')])"
   ]
  },
  {
   "cell_type": "markdown",
   "id": "d2a92b97",
   "metadata": {},
   "source": [
    "## Admission rate for male physics majors\n",
    "len(admits[(admits[\"gender\"]=='male') & (admits[\"major\"] == 'Physics') & admits[\"admitted\"]]) / len(admits[(admits[\"gender\"]=='male') & (admits[\"major\"] == 'Physics')])"
   ]
  },
  {
   "cell_type": "markdown",
   "id": "a62a1f7d",
   "metadata": {},
   "source": [
    "# Proportion and admission rate for chemistry majors of each gender\n",
    "\n",
    "## What proportion of female students are majoring in chemistry?\n",
    "len(admits[(admits['gender']=='female') & (admits['major'] == 'Chemistry')]) / len(admits[admits['gender']=='female'])\n",
    "\n",
    "## What proportion of male students are majoring in chemistry?\n",
    "len(admits[(admits['gender']=='male') & (admits['major'] == 'Chemistry')]) / len(admits[admits['gender']=='male'])\n",
    "\n",
    "## Admission rate for female chemistry majors\n",
    "len(admits[(admits['gender']=='female') & (admits['major'] == 'Chemistry') & admits['admitted']]) / len(admits[(admits['gender']=='female') & (admits['major'] == 'Chemistry')])\n",
    "\n",
    "## Admission rate for male chemistry majors\n",
    "len(admits[(admits['gender']=='male') & (admits['major'] == 'Chemistry') & admits['admitted']]) / len(admits[(admits['gender']=='male') & (admits['major'] == 'Chemistry')])\n"
   ]
  },
  {
   "cell_type": "markdown",
   "id": "81638251",
   "metadata": {},
   "source": [
    "# Admission rate for each major\n",
    "\n",
    "## Admission rate for physics majors\n",
    "len(admits[(admits['major'] == 'Physics') & admits['admitted']]) / len(admits[(admits['major'] == 'Physics')])\n",
    "\n",
    "## Admission rate for chemistry majors\n",
    "\n",
    "len(admits[(admits['major'] == 'Chemistry') & admits['admitted']]) / len(admits[(admits['major'] == 'Chemistry')])"
   ]
  },
  {
   "cell_type": "code",
   "execution_count": null,
   "id": "ba42620e",
   "metadata": {},
   "outputs": [],
   "source": []
  }
 ],
 "metadata": {
  "kernelspec": {
   "display_name": "Python 3 (ipykernel)",
   "language": "python",
   "name": "python3"
  },
  "language_info": {
   "codemirror_mode": {
    "name": "ipython",
    "version": 3
   },
   "file_extension": ".py",
   "mimetype": "text/x-python",
   "name": "python",
   "nbconvert_exporter": "python",
   "pygments_lexer": "ipython3",
   "version": "3.9.7"
  },
  "toc": {
   "base_numbering": 1,
   "nav_menu": {},
   "number_sections": true,
   "sideBar": true,
   "skip_h1_title": false,
   "title_cell": "Table of Contents",
   "title_sidebar": "Contents",
   "toc_cell": false,
   "toc_position": {},
   "toc_section_display": true,
   "toc_window_display": false
  }
 },
 "nbformat": 4,
 "nbformat_minor": 5
}
